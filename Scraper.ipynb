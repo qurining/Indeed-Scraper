{
 "cells": [
  {
   "cell_type": "code",
   "execution_count": null,
   "metadata": {},
   "outputs": [],
   "source": [
    "\n",
    "import pandas as pd \n",
    "import requests \n",
    "import re\n",
    "from bs4 import BeautifulSoup\n",
    "#k= 'https://www.indeed.com/cmp/Fordham-University/reviews?fcountry=ALL'\n",
    "link=['https://www.indeed.com/cmp/Southern-Company/reviews',\n",
    "'https://www.indeed.com/cmp/Nextera-Energy/reviews',\n",
    "'https://www.indeed.com/cmp/Publix/reviews',\n",
    "'https://www.indeed.com/cmp/Land-O’lakes,-Inc./reviews',\n",
    "'https://www.indeed.com/cmp/Motorola-Solutions/reviews',\n",
    "'https://www.indeed.com/cmp/Pfizer-Inc./reviews',\n",
    "'https://www.indeed.com/cmp/Lockheed-Martin/reviews',\n",
    "'https://www.indeed.com/cmp/Starbucks/reviews',\n",
    "'https://www.indeed.com/cmp/Merck/reviews',\n",
    "'https://www.indeed.com/cmp/Conocophillips/reviews',\n",
    "'https://www.indeed.com/cmp/American-Express/reviews',\n",
    "'https://www.indeed.com/cmp/Applied-Materials/reviews',\n",
    "'https://www.indeed.com/cmp/Dte-Energy/reviews',\n",
    "'https://www.indeed.com/cmp/Best-Buy/reviews',\n",
    "'https://www.indeed.com/cmp/Boston-Scientific/reviews',\n",
    "'https://www.indeed.com/cmp/Northrop-Grumman/reviews',\n",
    "'https://www.indeed.com/cmp/Discover-Financial-Services/reviews',\n",
    "'https://www.indeed.com/cmp/Blackrock-Inc./reviews',\n",
    "'https://www.indeed.com/cmp/Darden-Restaurants/reviews',\n",
    "'https://www.indeed.com/cmp/Mgm-Resorts-International/reviews',\n",
    "'https://www.indeed.com/cmp/Hilton/reviews',\n",
    "'https://www.indeed.com/cmp/Edward-Jones/reviews',\n",
    "'https://www.indeed.com/cmp/Marriott-International,-Inc./reviews',\n",
    "'https://www.indeed.com/cmp/Foot-Locker/reviews',\n",
    "'https://www.indeed.com/cmp/United-Airlines/reviews',\n",
    "'https://www.indeed.com/cmp/Adobe/reviews',\n",
    "'https://www.indeed.com/cmp/Facebook/reviews',\n",
    "'https://www.indeed.com/cmp/Southwest-Airlines/reviews',\n",
    "'https://www.indeed.com/cmp/Live-Nation/reviews',\n",
    "'https://www.indeed.com/cmp/Intuit/reviews',\n",
    "'https://www.indeed.com/cmp/Costco-Wholesale/reviews',\n",
    "'https://www.indeed.com/cmp/Delta/reviews',\n",
    "'https://www.indeed.com/cmp/Ebay-Inc./reviews',\n",
    "'https://www.indeed.com/cmp/Microsoft/reviews',\n",
    "'https://www.indeed.com/cmp/Johnson-&-Johnson/reviews',\n",
    "'https://www.indeed.com/cmp/Bristol--myers-Squibb/reviews',\n",
    "'https://www.indeed.com/cmp/Salesforce/reviews',\n",
    "'https://www.indeed.com/cmp/Fannie-Mae/reviews',\n",
    "'https://www.indeed.com/cmp/Eli-Lilly/reviews',\n",
    "'https://www.indeed.com/cmp/Jetblue-Airways-Corporation/reviews',\n",
    "'https://www.indeed.com/cmp/Freeport--mcmoran/reviews',\n",
    "'https://www.indeed.com/cmp/Fluor-Corp./reviews',\n",
    "'https://www.indeed.com/cmp/Apple/reviews',\n",
    "'https://www.indeed.com/cmp/Cisco/reviews',\n",
    "'https://www.indeed.com/cmp/Capital-One/reviews',\n",
    "'https://www.indeed.com/cmp/Nike/reviews',\n",
    "'https://www.indeed.com/cmp/Amgen/reviews',\n",
    "'https://www.indeed.com/cmp/Booz-Allen-Hamilton/reviews',\n",
    "'https://www.indeed.com/cmp/Charles-Schwab/reviews',\n",
    "'https://www.indeed.com/cmp/Viacom/reviews',\n",
    "'https://www.indeed.com/cmp/Southern-Company/reviews',\n",
    "'https://www.indeed.com/cmp/Nextera-Energy/reviews',\n",
    "'https://www.indeed.com/cmp/Publix/reviews',\n",
    "'https://www.indeed.com/cmp/Land-O%E2%80%99lakes,-Inc./reviews',\n",
    "'https://www.indeed.com/cmp/Motorola-Solutions/reviews',\n",
    "'https://www.indeed.com/cmp/Pfizer-Inc./reviews',\n",
    "'https://www.indeed.com/cmp/Lockheed-Martin/reviews',\n",
    "'https://www.indeed.com/cmp/Starbucks/reviews',\n",
    "'https://www.indeed.com/cmp/Merck/reviews',\n",
    "'https://www.indeed.com/cmp/Conocophillips/reviews',\n",
    "'https://www.indeed.com/cmp/American-Express/reviews',\n",
    "'https://www.indeed.com/cmp/Applied-Materials/reviews',\n",
    "'https://www.indeed.com/cmp/Dte-Energy/reviews',\n",
    "'https://www.indeed.com/cmp/Best-Buy/reviews',\n",
    "'https://www.indeed.com/cmp/Boston-Scientific/reviews',\n",
    "'https://www.indeed.com/cmp/Northrop-Grumman/reviews',\n",
    "'https://www.indeed.com/cmp/Discover-Financial-Services/reviews',\n",
    "'https://www.indeed.com/cmp/Blackrock-Inc./reviews',\n",
    "'https://www.indeed.com/cmp/Darden-Restaurants/reviews',\n",
    "'https://www.indeed.com/cmp/Mgm-Resorts-International/reviews',\n",
    "'https://www.indeed.com/cmp/Hilton/reviews',\n",
    "'https://www.indeed.com/cmp/Edward-Jones/reviews',\n",
    "'https://www.indeed.com/cmp/Marriott-International,-Inc./reviews',\n",
    "'https://www.indeed.com/cmp/Foot-Locker/reviews',\n",
    "'https://www.indeed.com/cmp/United-Airlines/reviews'  ]\n",
    "'''for k in link:\n",
    "    r = requests.get(k)\n",
    "    soup = BeautifulSoup(r.text,'html.parser')'''\n",
    "x1=1\n",
    "x2=40\n",
    "nbr_pages = [x*20 for x in range(x1, x2)]\n",
    "\n",
    "links=[]\n",
    "rs    = []\n",
    "soup  = []\n",
    "\n",
    "for k in link:\n",
    "    for i in nbr_pages:\n",
    "        links.append(k+'?start='+str(i)) \n",
    "for j in range(0,len(links)):\n",
    "    rs.append(requests.get(links[j]))\n",
    "    soup.append(BeautifulSoup(rs[j].text,'html.parser'))\n"
   ]
  },
  {
   "cell_type": "code",
   "execution_count": null,
   "metadata": {},
   "outputs": [],
   "source": [
    "import pandas as pd \n",
    "import requests \n",
    "import re\n",
    "from bs4 import BeautifulSoup\n",
    "#k= 'https://www.indeed.com/cmp/Fordham-University/reviews?fcountry=ALL'\n",
    "link=[\n",
    "'https://www.indeed.com/cmp/United-Airlines/reviews'  ]\n",
    "'''for k in link:\n",
    "    r = requests.get(k)\n",
    "    soup = BeautifulSoup(r.text,'html.parser')'''\n",
    "x1=1\n",
    "x2=20\n",
    "nbr_pages = [x*20 for x in range(x1, x2)]\n",
    "\n",
    "links=[]\n",
    "rs    = []\n",
    "soup  = []\n",
    "\n",
    "for k in link:\n",
    "    for i in nbr_pages:\n",
    "        links.append(k+'?start='+str(i)) \n",
    "for j in range(0,len(links)):\n",
    "    rs.append(requests.get(links[j]))\n",
    "    soup.append(BeautifulSoup(rs[j].text,'html.parser'))"
   ]
  },
  {
   "cell_type": "code",
   "execution_count": null,
   "metadata": {},
   "outputs": [],
   "source": [
    "soup[1].find_all('div', class_=\"cmp-Rating cmp-Rating--normal cmp-Rating--middle\")"
   ]
  },
  {
   "cell_type": "code",
   "execution_count": null,
   "metadata": {},
   "outputs": [],
   "source": [
    "soup[1].find_all('tr')[11].get_text()"
   ]
  },
  {
   "cell_type": "code",
   "execution_count": null,
   "metadata": {},
   "outputs": [],
   "source": [
    "soup[1].find_all('span', class_=\"cmp-Rating-on\")[1].get('style')"
   ]
  },
  {
   "cell_type": "code",
   "execution_count": null,
   "metadata": {},
   "outputs": [],
   "source": [
    "title = []\n",
    "job_title = []\n",
    "location = []\n",
    "date = []\n",
    "desc = []\n",
    "rating=[]\n",
    "pros=[]\n",
    "cons=[]\n",
    "\n",
    "for j in range((len(soup)-1)):\n",
    "    for i in range(len(soup[j].find_all('div',class_='cmp-review-title'))):\n",
    "        title.append(soup[j].find_all('div',class_='cmp-review-title')[i].get_text())\n",
    "        job_title.append(soup[j].find_all('span',class_='cmp-reviewer-job-title')[i].get_text())        \n",
    "        location.append(soup[j].find_all('span',class_='cmp-reviewer-job-location')[i].get_text())        \n",
    "        date.append(soup[j].find_all('span',class_='cmp-review-date-created')[i].get_text())  \n",
    "        desc.append(soup[j].find_all('div',class_='cmp-review-description')[i].get_text())\n",
    "        rating.append(soup[j].find_all('meta',itemprop='ratingValue')[i].get('content'))\n",
    "        Jobbalance.append(soup[j].find_all('span', class_=\"cmp-Rating-on\")[i+3].get('style'))\n",
    "        Jobbalance.append(soup[j].find_all('tr')[i+1].get_text())"
   ]
  },
  {
   "cell_type": "code",
   "execution_count": null,
   "metadata": {},
   "outputs": [],
   "source": [
    "Jobbalance"
   ]
  },
  {
   "cell_type": "code",
   "execution_count": null,
   "metadata": {},
   "outputs": [],
   "source": [
    "df = pd.DataFrame([date,title,job_title,location,desc,rating,pros,cons,Jobbalance]).T\n",
    "df.columns = ['date','title','job_title','location','desc','rating','pros','cons','Jobbalance']\n",
    "df.head(20)"
   ]
  },
  {
   "cell_type": "code",
   "execution_count": null,
   "metadata": {},
   "outputs": [],
   "source": [
    "soup"
   ]
  },
  {
   "cell_type": "code",
   "execution_count": null,
   "metadata": {},
   "outputs": [],
   "source": [
    "soup[1].find_all('div',class_='cmp-review-title')[0].get_text()"
   ]
  },
  {
   "cell_type": "code",
   "execution_count": null,
   "metadata": {},
   "outputs": [],
   "source": [
    "title = []\n",
    "job_title = []\n",
    "location = []\n",
    "date = []\n",
    "desc = []\n",
    "rating=[]\n",
    "pros=[]\n",
    "cons=[]\n",
    "#Jobbalance=[]\n",
    "for j in range((len(soup)-1)):\n",
    "    for i in range(len(soup[j].find_all('div',class_='cmp-review-title'))):\n",
    "        title.append(soup[j].find_all('div',class_='cmp-review-title')[i].get_text())\n",
    "        job_title.append(soup[j].find_all('span',class_='cmp-reviewer-job-title')[i].get_text())        \n",
    "        location.append(soup[j].find_all('span',class_='cmp-reviewer-job-location')[i].get_text())        \n",
    "        date.append(soup[j].find_all('span',class_='cmp-review-date-created')[i].get_text())  \n",
    "        desc.append(soup[j].find_all('div',class_='cmp-review-description')[i].get_text())\n",
    "        rating.append(soup[j].find_all('meta',itemprop='ratingValue')[i].get('content'))\n",
    "        #Jobbalance.append(soup[j].find_all('div',class_='cmp-RatingStars-StarsFilled')[i].get('style'))\n",
    "        try:\n",
    "            pros.append(soup[j].find_all('div',class_='cmp-review-pro-text')[i].getText())            \n",
    "        except:\n",
    "            pros.append('Null')\n",
    "        try:\n",
    "            cons.append(soup[j].find_all('div',class_='cmp-review-con-text')[i].getText())\n",
    "        except:\n",
    "            cons.append('Null') \n"
   ]
  },
  {
   "cell_type": "code",
   "execution_count": null,
   "metadata": {},
   "outputs": [],
   "source": [
    "df = pd.DataFrame([date,title,job_title,location,desc,rating,pros,cons]).T\n",
    "df.columns = ['date','title','job_title','location','desc','rating','pros','cons']\n",
    "df"
   ]
  },
  {
   "cell_type": "code",
   "execution_count": null,
   "metadata": {},
   "outputs": [],
   "source": [
    "df.to_csv(\"12.1indeed.csv\",index=False)"
   ]
  },
  {
   "cell_type": "code",
   "execution_count": null,
   "metadata": {},
   "outputs": [],
   "source": [
    "links"
   ]
  },
  {
   "cell_type": "code",
   "execution_count": null,
   "metadata": {},
   "outputs": [],
   "source": []
  }
 ],
 "metadata": {
  "kernelspec": {
   "display_name": "Python 3",
   "language": "python",
   "name": "python3"
  },
  "language_info": {
   "codemirror_mode": {
    "name": "ipython",
    "version": 3
   },
   "file_extension": ".py",
   "mimetype": "text/x-python",
   "name": "python",
   "nbconvert_exporter": "python",
   "pygments_lexer": "ipython3",
   "version": "3.7.3"
  }
 },
 "nbformat": 4,
 "nbformat_minor": 2
}
